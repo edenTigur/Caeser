{
 "cells": [
  {
   "cell_type": "code",
   "execution_count": 83,
   "metadata": {
    "collapsed": true
   },
   "outputs": [],
   "source": [
    "import os\n",
    "\n",
    "os.environ[\"CUDA_VISIBLE_DEVICES\"] = \"-1\"\n",
    "# caeser cipher (시저 암호화) 카이사르 암호화\n",
    "# abc - > def\n",
    "# azb - > dce"
   ]
  },
  {
   "cell_type": "code",
   "execution_count": 84,
   "outputs": [],
   "source": [
    "# 1. data 입력\n",
    "def input_data():\n",
    "    explain_message = \"Let's encrypt our information\"\n",
    "    information = input(\"what is your information? \\n\") #abc -> def\n",
    "    x = int(input(\"Type your shift number: \\n\")) # 3\n",
    "\n",
    "    return information, x"
   ],
   "metadata": {
    "collapsed": false
   }
  },
  {
   "cell_type": "code",
   "execution_count": 85,
   "outputs": [],
   "source": [
    "def decrypt(encrypt_res, y):\n",
    "    decrypt_res = \"\"\n",
    "\n",
    "    for letter in encrypt_res:\n",
    "        index_position = alphabet.index(letter)\n",
    "        new_index_position = index_position - y\n",
    "        new_letter = alphabet[new_index_position]\n",
    "        decrypt_res += new_letter\n",
    "\n",
    "    return decrypt_res"
   ],
   "metadata": {
    "collapsed": false
   }
  },
  {
   "cell_type": "code",
   "execution_count": 86,
   "outputs": [],
   "source": [
    "# 2. for loop\n",
    "def encrypt(information, x):\n",
    "    encrypt_res = \"\"\n",
    "\n",
    "    for letter in information:\n",
    "        index_position = alphabet.index(letter)\n",
    "        new_index_position = index_position + x\n",
    "        new_letter = alphabet[new_index_position]\n",
    "        encrypt_res += new_letter\n",
    "\n",
    "    return encrypt_res"
   ],
   "metadata": {
    "collapsed": false
   }
  },
  {
   "cell_type": "code",
   "execution_count": 87,
   "outputs": [
    {
     "name": "stdout",
     "output_type": "stream",
     "text": [
      "your encrypt information is def\n",
      "def\n",
      "your decrypt information is abc\n"
     ]
    }
   ],
   "source": [
    "if __name__ == '__main__':\n",
    "\n",
    "    alphabet = ['a', 'b', 'c', 'd', 'e', 'f', 'g', 'h', 'i', 'j', 'k', 'l', 'm', 'n', 'o', 'p', 'q', 'r', 's', 't', 'u', 'v', 'w', 'x', 'y', 'z']\n",
    "\n",
    "    information, x = input_data()\n",
    "    print(\"your encrypt information is \" + encrypt(information, x))\n",
    "    print(\"your decrypt information is \" + decrypt(encrypt(information, x), x))"
   ],
   "metadata": {
    "collapsed": false
   }
  },
  {
   "cell_type": "code",
   "execution_count": 87,
   "outputs": [],
   "source": [],
   "metadata": {
    "collapsed": false
   }
  },
  {
   "cell_type": "markdown",
   "source": [],
   "metadata": {
    "collapsed": false
   }
  }
 ],
 "metadata": {
  "kernelspec": {
   "display_name": "Python 3",
   "language": "python",
   "name": "python3"
  },
  "language_info": {
   "codemirror_mode": {
    "name": "ipython",
    "version": 2
   },
   "file_extension": ".py",
   "mimetype": "text/x-python",
   "name": "python",
   "nbconvert_exporter": "python",
   "pygments_lexer": "ipython2",
   "version": "2.7.6"
  }
 },
 "nbformat": 4,
 "nbformat_minor": 0
}
